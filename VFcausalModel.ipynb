{
  "nbformat": 4,
  "nbformat_minor": 0,
  "metadata": {
    "colab": {
      "provenance": []
    },
    "kernelspec": {
      "name": "python3",
      "display_name": "Python 3"
    },
    "language_info": {
      "name": "python"
    }
  },
  "cells": [
    {
      "cell_type": "markdown",
      "source": [
        "This notebook and subsequent analysis was adapted from SIADS 630 Causal Inference course from the Masters of Applied Data Science (MADS) program at the University of Michigan. Produced by Michael Clark.\n",
        "\n",
        "<br>\n",
        "Background: Nike claims it's Vaporfly running sneakers \"are about 4% better than some of it's best racing shoes\". This analysis of 24,699 runners that qualified for and ran the same marathon to determine if there is sufficient evidence to support the Company's claim.\n",
        "</br>\n",
        "<br>\n",
        "Link to the NYT article:\n",
        "\n",
        "[*Nike Says Its $250 Running Shoes Will Make You Run Much Faster. What if That’s Actually True?*](https://www.nytimes.com/interactive/2018/07/18/upshot/nike-vaporfly-shoe-strava.html#:~:text=Nike%20says%20the%20shoes%20are,to%20a%20four%2Dhour%20marathoner.)\n"
      ],
      "metadata": {
        "id": "ntkEcooGem22"
      }
    },
    {
      "cell_type": "code",
      "execution_count": 2,
      "metadata": {
        "colab": {
          "base_uri": "https://localhost:8080/"
        },
        "id": "tHZc1Dq8dm4y",
        "outputId": "c451adb2-251a-4e5c-850b-bddfe96abff4"
      },
      "outputs": [
        {
          "output_type": "stream",
          "name": "stdout",
          "text": [
            "Drive already mounted at /content/drive; to attempt to forcibly remount, call drive.mount(\"/content/drive\", force_remount=True).\n"
          ]
        }
      ],
      "source": [
        "# library imports\n",
        "import numpy as np\n",
        "import pandas as pd\n",
        "import statsmodels.api as sm\n",
        "import statsmodels.formula.api as smf\n",
        "#pip install causalinference\n",
        "from causalinference import CausalModel\n",
        "\n",
        "# connecting Google Drive and changing dir\n",
        "import os\n",
        "from google.colab import drive\n",
        "drive.mount('/content/drive')\n",
        "os.chdir('drive/MyDrive/git/VF_causalModel')"
      ]
    },
    {
      "cell_type": "markdown",
      "source": [
        "The data file \"marathon_race_data.csv” contains 5 vars for 24,699 runners that qualified for and ran the same marathon. Below are the descriptions of each variable in the data:\n",
        "\n",
        "* age: age of runner (min value: 18, max value: 55)\n",
        "* male: dummy variable for gender; equal to 0 if female, 1 if male\n",
        "* marathoner_type: “seasoned” if runner has at least 3 prior completed marathons,\n",
        "“enthusiastic” if runner has completed 1 or 2 prior completed marathons,\n",
        "“first_timer” if this is a runner’s first time running a marathon\n",
        "* vaporfly: 1 if a runner’s racing shoe is Nike Vaporfly, 0 otherwise\n",
        "* race_time: marathon completion time in seconds"
      ],
      "metadata": {
        "id": "arYXrON4mKBa"
      }
    },
    {
      "cell_type": "code",
      "source": [
        "# load the CSV data into a dataframe, sample 5 records\n",
        "marathon_df = pd.read_csv('marathon_race_data.csv')\n",
        "marathon_df.sample(5)"
      ],
      "metadata": {
        "colab": {
          "base_uri": "https://localhost:8080/",
          "height": 206
        },
        "id": "aP8Rdp5lkPF9",
        "outputId": "296eff26-b899-483d-bd1a-9d4a71cbcab2"
      },
      "execution_count": 5,
      "outputs": [
        {
          "output_type": "execute_result",
          "data": {
            "text/plain": [
              "       age marathoner_type  vaporfly  race_time  male\n",
              "5808    26     first_timer         1  15067.636     1\n",
              "13995   34     first_timer         0  15415.063     0\n",
              "3470    34        seasoned         0  12969.480     0\n",
              "6062    38     first_timer         1  14265.666     0\n",
              "20143   31     first_timer         0  14286.604     1"
            ],
            "text/html": [
              "\n",
              "  <div id=\"df-8f82b2e8-b8a1-4e5e-811b-aa6cf30ced47\" class=\"colab-df-container\">\n",
              "    <div>\n",
              "<style scoped>\n",
              "    .dataframe tbody tr th:only-of-type {\n",
              "        vertical-align: middle;\n",
              "    }\n",
              "\n",
              "    .dataframe tbody tr th {\n",
              "        vertical-align: top;\n",
              "    }\n",
              "\n",
              "    .dataframe thead th {\n",
              "        text-align: right;\n",
              "    }\n",
              "</style>\n",
              "<table border=\"1\" class=\"dataframe\">\n",
              "  <thead>\n",
              "    <tr style=\"text-align: right;\">\n",
              "      <th></th>\n",
              "      <th>age</th>\n",
              "      <th>marathoner_type</th>\n",
              "      <th>vaporfly</th>\n",
              "      <th>race_time</th>\n",
              "      <th>male</th>\n",
              "    </tr>\n",
              "  </thead>\n",
              "  <tbody>\n",
              "    <tr>\n",
              "      <th>5808</th>\n",
              "      <td>26</td>\n",
              "      <td>first_timer</td>\n",
              "      <td>1</td>\n",
              "      <td>15067.636</td>\n",
              "      <td>1</td>\n",
              "    </tr>\n",
              "    <tr>\n",
              "      <th>13995</th>\n",
              "      <td>34</td>\n",
              "      <td>first_timer</td>\n",
              "      <td>0</td>\n",
              "      <td>15415.063</td>\n",
              "      <td>0</td>\n",
              "    </tr>\n",
              "    <tr>\n",
              "      <th>3470</th>\n",
              "      <td>34</td>\n",
              "      <td>seasoned</td>\n",
              "      <td>0</td>\n",
              "      <td>12969.480</td>\n",
              "      <td>0</td>\n",
              "    </tr>\n",
              "    <tr>\n",
              "      <th>6062</th>\n",
              "      <td>38</td>\n",
              "      <td>first_timer</td>\n",
              "      <td>1</td>\n",
              "      <td>14265.666</td>\n",
              "      <td>0</td>\n",
              "    </tr>\n",
              "    <tr>\n",
              "      <th>20143</th>\n",
              "      <td>31</td>\n",
              "      <td>first_timer</td>\n",
              "      <td>0</td>\n",
              "      <td>14286.604</td>\n",
              "      <td>1</td>\n",
              "    </tr>\n",
              "  </tbody>\n",
              "</table>\n",
              "</div>\n",
              "    <div class=\"colab-df-buttons\">\n",
              "\n",
              "  <div class=\"colab-df-container\">\n",
              "    <button class=\"colab-df-convert\" onclick=\"convertToInteractive('df-8f82b2e8-b8a1-4e5e-811b-aa6cf30ced47')\"\n",
              "            title=\"Convert this dataframe to an interactive table.\"\n",
              "            style=\"display:none;\">\n",
              "\n",
              "  <svg xmlns=\"http://www.w3.org/2000/svg\" height=\"24px\" viewBox=\"0 -960 960 960\">\n",
              "    <path d=\"M120-120v-720h720v720H120Zm60-500h600v-160H180v160Zm220 220h160v-160H400v160Zm0 220h160v-160H400v160ZM180-400h160v-160H180v160Zm440 0h160v-160H620v160ZM180-180h160v-160H180v160Zm440 0h160v-160H620v160Z\"/>\n",
              "  </svg>\n",
              "    </button>\n",
              "\n",
              "  <style>\n",
              "    .colab-df-container {\n",
              "      display:flex;\n",
              "      gap: 12px;\n",
              "    }\n",
              "\n",
              "    .colab-df-convert {\n",
              "      background-color: #E8F0FE;\n",
              "      border: none;\n",
              "      border-radius: 50%;\n",
              "      cursor: pointer;\n",
              "      display: none;\n",
              "      fill: #1967D2;\n",
              "      height: 32px;\n",
              "      padding: 0 0 0 0;\n",
              "      width: 32px;\n",
              "    }\n",
              "\n",
              "    .colab-df-convert:hover {\n",
              "      background-color: #E2EBFA;\n",
              "      box-shadow: 0px 1px 2px rgba(60, 64, 67, 0.3), 0px 1px 3px 1px rgba(60, 64, 67, 0.15);\n",
              "      fill: #174EA6;\n",
              "    }\n",
              "\n",
              "    .colab-df-buttons div {\n",
              "      margin-bottom: 4px;\n",
              "    }\n",
              "\n",
              "    [theme=dark] .colab-df-convert {\n",
              "      background-color: #3B4455;\n",
              "      fill: #D2E3FC;\n",
              "    }\n",
              "\n",
              "    [theme=dark] .colab-df-convert:hover {\n",
              "      background-color: #434B5C;\n",
              "      box-shadow: 0px 1px 3px 1px rgba(0, 0, 0, 0.15);\n",
              "      filter: drop-shadow(0px 1px 2px rgba(0, 0, 0, 0.3));\n",
              "      fill: #FFFFFF;\n",
              "    }\n",
              "  </style>\n",
              "\n",
              "    <script>\n",
              "      const buttonEl =\n",
              "        document.querySelector('#df-8f82b2e8-b8a1-4e5e-811b-aa6cf30ced47 button.colab-df-convert');\n",
              "      buttonEl.style.display =\n",
              "        google.colab.kernel.accessAllowed ? 'block' : 'none';\n",
              "\n",
              "      async function convertToInteractive(key) {\n",
              "        const element = document.querySelector('#df-8f82b2e8-b8a1-4e5e-811b-aa6cf30ced47');\n",
              "        const dataTable =\n",
              "          await google.colab.kernel.invokeFunction('convertToInteractive',\n",
              "                                                    [key], {});\n",
              "        if (!dataTable) return;\n",
              "\n",
              "        const docLinkHtml = 'Like what you see? Visit the ' +\n",
              "          '<a target=\"_blank\" href=https://colab.research.google.com/notebooks/data_table.ipynb>data table notebook</a>'\n",
              "          + ' to learn more about interactive tables.';\n",
              "        element.innerHTML = '';\n",
              "        dataTable['output_type'] = 'display_data';\n",
              "        await google.colab.output.renderOutput(dataTable, element);\n",
              "        const docLink = document.createElement('div');\n",
              "        docLink.innerHTML = docLinkHtml;\n",
              "        element.appendChild(docLink);\n",
              "      }\n",
              "    </script>\n",
              "  </div>\n",
              "\n",
              "\n",
              "<div id=\"df-22276b27-a66c-422f-a538-28e142617052\">\n",
              "  <button class=\"colab-df-quickchart\" onclick=\"quickchart('df-22276b27-a66c-422f-a538-28e142617052')\"\n",
              "            title=\"Suggest charts.\"\n",
              "            style=\"display:none;\">\n",
              "\n",
              "<svg xmlns=\"http://www.w3.org/2000/svg\" height=\"24px\"viewBox=\"0 0 24 24\"\n",
              "     width=\"24px\">\n",
              "    <g>\n",
              "        <path d=\"M19 3H5c-1.1 0-2 .9-2 2v14c0 1.1.9 2 2 2h14c1.1 0 2-.9 2-2V5c0-1.1-.9-2-2-2zM9 17H7v-7h2v7zm4 0h-2V7h2v10zm4 0h-2v-4h2v4z\"/>\n",
              "    </g>\n",
              "</svg>\n",
              "  </button>\n",
              "\n",
              "<style>\n",
              "  .colab-df-quickchart {\n",
              "      --bg-color: #E8F0FE;\n",
              "      --fill-color: #1967D2;\n",
              "      --hover-bg-color: #E2EBFA;\n",
              "      --hover-fill-color: #174EA6;\n",
              "      --disabled-fill-color: #AAA;\n",
              "      --disabled-bg-color: #DDD;\n",
              "  }\n",
              "\n",
              "  [theme=dark] .colab-df-quickchart {\n",
              "      --bg-color: #3B4455;\n",
              "      --fill-color: #D2E3FC;\n",
              "      --hover-bg-color: #434B5C;\n",
              "      --hover-fill-color: #FFFFFF;\n",
              "      --disabled-bg-color: #3B4455;\n",
              "      --disabled-fill-color: #666;\n",
              "  }\n",
              "\n",
              "  .colab-df-quickchart {\n",
              "    background-color: var(--bg-color);\n",
              "    border: none;\n",
              "    border-radius: 50%;\n",
              "    cursor: pointer;\n",
              "    display: none;\n",
              "    fill: var(--fill-color);\n",
              "    height: 32px;\n",
              "    padding: 0;\n",
              "    width: 32px;\n",
              "  }\n",
              "\n",
              "  .colab-df-quickchart:hover {\n",
              "    background-color: var(--hover-bg-color);\n",
              "    box-shadow: 0 1px 2px rgba(60, 64, 67, 0.3), 0 1px 3px 1px rgba(60, 64, 67, 0.15);\n",
              "    fill: var(--button-hover-fill-color);\n",
              "  }\n",
              "\n",
              "  .colab-df-quickchart-complete:disabled,\n",
              "  .colab-df-quickchart-complete:disabled:hover {\n",
              "    background-color: var(--disabled-bg-color);\n",
              "    fill: var(--disabled-fill-color);\n",
              "    box-shadow: none;\n",
              "  }\n",
              "\n",
              "  .colab-df-spinner {\n",
              "    border: 2px solid var(--fill-color);\n",
              "    border-color: transparent;\n",
              "    border-bottom-color: var(--fill-color);\n",
              "    animation:\n",
              "      spin 1s steps(1) infinite;\n",
              "  }\n",
              "\n",
              "  @keyframes spin {\n",
              "    0% {\n",
              "      border-color: transparent;\n",
              "      border-bottom-color: var(--fill-color);\n",
              "      border-left-color: var(--fill-color);\n",
              "    }\n",
              "    20% {\n",
              "      border-color: transparent;\n",
              "      border-left-color: var(--fill-color);\n",
              "      border-top-color: var(--fill-color);\n",
              "    }\n",
              "    30% {\n",
              "      border-color: transparent;\n",
              "      border-left-color: var(--fill-color);\n",
              "      border-top-color: var(--fill-color);\n",
              "      border-right-color: var(--fill-color);\n",
              "    }\n",
              "    40% {\n",
              "      border-color: transparent;\n",
              "      border-right-color: var(--fill-color);\n",
              "      border-top-color: var(--fill-color);\n",
              "    }\n",
              "    60% {\n",
              "      border-color: transparent;\n",
              "      border-right-color: var(--fill-color);\n",
              "    }\n",
              "    80% {\n",
              "      border-color: transparent;\n",
              "      border-right-color: var(--fill-color);\n",
              "      border-bottom-color: var(--fill-color);\n",
              "    }\n",
              "    90% {\n",
              "      border-color: transparent;\n",
              "      border-bottom-color: var(--fill-color);\n",
              "    }\n",
              "  }\n",
              "</style>\n",
              "\n",
              "  <script>\n",
              "    async function quickchart(key) {\n",
              "      const quickchartButtonEl =\n",
              "        document.querySelector('#' + key + ' button');\n",
              "      quickchartButtonEl.disabled = true;  // To prevent multiple clicks.\n",
              "      quickchartButtonEl.classList.add('colab-df-spinner');\n",
              "      try {\n",
              "        const charts = await google.colab.kernel.invokeFunction(\n",
              "            'suggestCharts', [key], {});\n",
              "      } catch (error) {\n",
              "        console.error('Error during call to suggestCharts:', error);\n",
              "      }\n",
              "      quickchartButtonEl.classList.remove('colab-df-spinner');\n",
              "      quickchartButtonEl.classList.add('colab-df-quickchart-complete');\n",
              "    }\n",
              "    (() => {\n",
              "      let quickchartButtonEl =\n",
              "        document.querySelector('#df-22276b27-a66c-422f-a538-28e142617052 button');\n",
              "      quickchartButtonEl.style.display =\n",
              "        google.colab.kernel.accessAllowed ? 'block' : 'none';\n",
              "    })();\n",
              "  </script>\n",
              "</div>\n",
              "    </div>\n",
              "  </div>\n"
            ]
          },
          "metadata": {},
          "execution_count": 5
        }
      ]
    },
    {
      "cell_type": "markdown",
      "source": [
        "Examine the race_time variable to identify any outliers and understand its distribution properties to determine if any data manipulation or transformation is required.  "
      ],
      "metadata": {
        "id": "35mpdaXBoc76"
      }
    },
    {
      "cell_type": "code",
      "source": [
        "# convert race time to hours to make it more understandable\n",
        "marathon_df['race_time_hrs'] = marathon_df.race_time / 60 / 60\n",
        "marathon_df.race_time_hrs.describe(), print('fastest race time: {} hours'.format(marathon_df.race_time_hrs.min()))"
      ],
      "metadata": {
        "colab": {
          "base_uri": "https://localhost:8080/"
        },
        "id": "J3WesaCooa4v",
        "outputId": "64a5e11e-e2b4-4553-eb3b-2c827d5e8ca2"
      },
      "execution_count": 20,
      "outputs": [
        {
          "output_type": "stream",
          "name": "stdout",
          "text": [
            "fastest race time: 1.7271006944444445 hours\n"
          ]
        },
        {
          "output_type": "execute_result",
          "data": {
            "text/plain": [
              "(count    24699.000000\n",
              " mean         3.949861\n",
              " std          0.539766\n",
              " min          1.727101\n",
              " 25%          3.588125\n",
              " 50%          3.958961\n",
              " 75%          4.320235\n",
              " max          5.904248\n",
              " Name: race_time, dtype: float64,\n",
              " None)"
            ]
          },
          "metadata": {},
          "execution_count": 20
        }
      ]
    },
    {
      "cell_type": "code",
      "source": [
        "# transform race time using natural log\n",
        "marathon_df['race_time_nl'] = np.log(marathon_df.race_time)\n",
        "marathon_df.race_time_nl.describe()"
      ],
      "metadata": {
        "colab": {
          "base_uri": "https://localhost:8080/"
        },
        "id": "vvlzgcd1q3cA",
        "outputId": "23b5016a-861c-4d84-a32b-039bac30b131"
      },
      "execution_count": 22,
      "outputs": [
        {
          "output_type": "execute_result",
          "data": {
            "text/plain": [
              "count    24699.000000\n",
              "mean         9.552691\n",
              "std          0.140757\n",
              "min          8.735133\n",
              "25%          9.466319\n",
              "50%          9.564671\n",
              "75%          9.651999\n",
              "max          9.964361\n",
              "Name: race_time_nl, dtype: float64"
            ]
          },
          "metadata": {},
          "execution_count": 22
        }
      ]
    },
    {
      "cell_type": "code",
      "source": [
        "# analyze the means across vaporfly vs non vaporfly groups as well as the n for each group\n",
        "marathon_df.groupby('vaporfly').agg({'race_time_nl':np.mean,'vaporfly':np.size})"
      ],
      "metadata": {
        "colab": {
          "base_uri": "https://localhost:8080/",
          "height": 143
        },
        "id": "RMoTmMqIt24g",
        "outputId": "4881f145-0284-4856-b5b4-bcc003c886e6"
      },
      "execution_count": 46,
      "outputs": [
        {
          "output_type": "execute_result",
          "data": {
            "text/plain": [
              "          race_time_nl  vaporfly\n",
              "vaporfly                        \n",
              "0             9.585015     12228\n",
              "1             9.520997     12471"
            ],
            "text/html": [
              "\n",
              "  <div id=\"df-a89e75f1-dea2-45dc-a890-1e7ecb6ef891\" class=\"colab-df-container\">\n",
              "    <div>\n",
              "<style scoped>\n",
              "    .dataframe tbody tr th:only-of-type {\n",
              "        vertical-align: middle;\n",
              "    }\n",
              "\n",
              "    .dataframe tbody tr th {\n",
              "        vertical-align: top;\n",
              "    }\n",
              "\n",
              "    .dataframe thead th {\n",
              "        text-align: right;\n",
              "    }\n",
              "</style>\n",
              "<table border=\"1\" class=\"dataframe\">\n",
              "  <thead>\n",
              "    <tr style=\"text-align: right;\">\n",
              "      <th></th>\n",
              "      <th>race_time_nl</th>\n",
              "      <th>vaporfly</th>\n",
              "    </tr>\n",
              "    <tr>\n",
              "      <th>vaporfly</th>\n",
              "      <th></th>\n",
              "      <th></th>\n",
              "    </tr>\n",
              "  </thead>\n",
              "  <tbody>\n",
              "    <tr>\n",
              "      <th>0</th>\n",
              "      <td>9.585015</td>\n",
              "      <td>12228</td>\n",
              "    </tr>\n",
              "    <tr>\n",
              "      <th>1</th>\n",
              "      <td>9.520997</td>\n",
              "      <td>12471</td>\n",
              "    </tr>\n",
              "  </tbody>\n",
              "</table>\n",
              "</div>\n",
              "    <div class=\"colab-df-buttons\">\n",
              "\n",
              "  <div class=\"colab-df-container\">\n",
              "    <button class=\"colab-df-convert\" onclick=\"convertToInteractive('df-a89e75f1-dea2-45dc-a890-1e7ecb6ef891')\"\n",
              "            title=\"Convert this dataframe to an interactive table.\"\n",
              "            style=\"display:none;\">\n",
              "\n",
              "  <svg xmlns=\"http://www.w3.org/2000/svg\" height=\"24px\" viewBox=\"0 -960 960 960\">\n",
              "    <path d=\"M120-120v-720h720v720H120Zm60-500h600v-160H180v160Zm220 220h160v-160H400v160Zm0 220h160v-160H400v160ZM180-400h160v-160H180v160Zm440 0h160v-160H620v160ZM180-180h160v-160H180v160Zm440 0h160v-160H620v160Z\"/>\n",
              "  </svg>\n",
              "    </button>\n",
              "\n",
              "  <style>\n",
              "    .colab-df-container {\n",
              "      display:flex;\n",
              "      gap: 12px;\n",
              "    }\n",
              "\n",
              "    .colab-df-convert {\n",
              "      background-color: #E8F0FE;\n",
              "      border: none;\n",
              "      border-radius: 50%;\n",
              "      cursor: pointer;\n",
              "      display: none;\n",
              "      fill: #1967D2;\n",
              "      height: 32px;\n",
              "      padding: 0 0 0 0;\n",
              "      width: 32px;\n",
              "    }\n",
              "\n",
              "    .colab-df-convert:hover {\n",
              "      background-color: #E2EBFA;\n",
              "      box-shadow: 0px 1px 2px rgba(60, 64, 67, 0.3), 0px 1px 3px 1px rgba(60, 64, 67, 0.15);\n",
              "      fill: #174EA6;\n",
              "    }\n",
              "\n",
              "    .colab-df-buttons div {\n",
              "      margin-bottom: 4px;\n",
              "    }\n",
              "\n",
              "    [theme=dark] .colab-df-convert {\n",
              "      background-color: #3B4455;\n",
              "      fill: #D2E3FC;\n",
              "    }\n",
              "\n",
              "    [theme=dark] .colab-df-convert:hover {\n",
              "      background-color: #434B5C;\n",
              "      box-shadow: 0px 1px 3px 1px rgba(0, 0, 0, 0.15);\n",
              "      filter: drop-shadow(0px 1px 2px rgba(0, 0, 0, 0.3));\n",
              "      fill: #FFFFFF;\n",
              "    }\n",
              "  </style>\n",
              "\n",
              "    <script>\n",
              "      const buttonEl =\n",
              "        document.querySelector('#df-a89e75f1-dea2-45dc-a890-1e7ecb6ef891 button.colab-df-convert');\n",
              "      buttonEl.style.display =\n",
              "        google.colab.kernel.accessAllowed ? 'block' : 'none';\n",
              "\n",
              "      async function convertToInteractive(key) {\n",
              "        const element = document.querySelector('#df-a89e75f1-dea2-45dc-a890-1e7ecb6ef891');\n",
              "        const dataTable =\n",
              "          await google.colab.kernel.invokeFunction('convertToInteractive',\n",
              "                                                    [key], {});\n",
              "        if (!dataTable) return;\n",
              "\n",
              "        const docLinkHtml = 'Like what you see? Visit the ' +\n",
              "          '<a target=\"_blank\" href=https://colab.research.google.com/notebooks/data_table.ipynb>data table notebook</a>'\n",
              "          + ' to learn more about interactive tables.';\n",
              "        element.innerHTML = '';\n",
              "        dataTable['output_type'] = 'display_data';\n",
              "        await google.colab.output.renderOutput(dataTable, element);\n",
              "        const docLink = document.createElement('div');\n",
              "        docLink.innerHTML = docLinkHtml;\n",
              "        element.appendChild(docLink);\n",
              "      }\n",
              "    </script>\n",
              "  </div>\n",
              "\n",
              "\n",
              "<div id=\"df-3ccf51e7-3f5c-42cd-8c1c-94ade073e720\">\n",
              "  <button class=\"colab-df-quickchart\" onclick=\"quickchart('df-3ccf51e7-3f5c-42cd-8c1c-94ade073e720')\"\n",
              "            title=\"Suggest charts.\"\n",
              "            style=\"display:none;\">\n",
              "\n",
              "<svg xmlns=\"http://www.w3.org/2000/svg\" height=\"24px\"viewBox=\"0 0 24 24\"\n",
              "     width=\"24px\">\n",
              "    <g>\n",
              "        <path d=\"M19 3H5c-1.1 0-2 .9-2 2v14c0 1.1.9 2 2 2h14c1.1 0 2-.9 2-2V5c0-1.1-.9-2-2-2zM9 17H7v-7h2v7zm4 0h-2V7h2v10zm4 0h-2v-4h2v4z\"/>\n",
              "    </g>\n",
              "</svg>\n",
              "  </button>\n",
              "\n",
              "<style>\n",
              "  .colab-df-quickchart {\n",
              "      --bg-color: #E8F0FE;\n",
              "      --fill-color: #1967D2;\n",
              "      --hover-bg-color: #E2EBFA;\n",
              "      --hover-fill-color: #174EA6;\n",
              "      --disabled-fill-color: #AAA;\n",
              "      --disabled-bg-color: #DDD;\n",
              "  }\n",
              "\n",
              "  [theme=dark] .colab-df-quickchart {\n",
              "      --bg-color: #3B4455;\n",
              "      --fill-color: #D2E3FC;\n",
              "      --hover-bg-color: #434B5C;\n",
              "      --hover-fill-color: #FFFFFF;\n",
              "      --disabled-bg-color: #3B4455;\n",
              "      --disabled-fill-color: #666;\n",
              "  }\n",
              "\n",
              "  .colab-df-quickchart {\n",
              "    background-color: var(--bg-color);\n",
              "    border: none;\n",
              "    border-radius: 50%;\n",
              "    cursor: pointer;\n",
              "    display: none;\n",
              "    fill: var(--fill-color);\n",
              "    height: 32px;\n",
              "    padding: 0;\n",
              "    width: 32px;\n",
              "  }\n",
              "\n",
              "  .colab-df-quickchart:hover {\n",
              "    background-color: var(--hover-bg-color);\n",
              "    box-shadow: 0 1px 2px rgba(60, 64, 67, 0.3), 0 1px 3px 1px rgba(60, 64, 67, 0.15);\n",
              "    fill: var(--button-hover-fill-color);\n",
              "  }\n",
              "\n",
              "  .colab-df-quickchart-complete:disabled,\n",
              "  .colab-df-quickchart-complete:disabled:hover {\n",
              "    background-color: var(--disabled-bg-color);\n",
              "    fill: var(--disabled-fill-color);\n",
              "    box-shadow: none;\n",
              "  }\n",
              "\n",
              "  .colab-df-spinner {\n",
              "    border: 2px solid var(--fill-color);\n",
              "    border-color: transparent;\n",
              "    border-bottom-color: var(--fill-color);\n",
              "    animation:\n",
              "      spin 1s steps(1) infinite;\n",
              "  }\n",
              "\n",
              "  @keyframes spin {\n",
              "    0% {\n",
              "      border-color: transparent;\n",
              "      border-bottom-color: var(--fill-color);\n",
              "      border-left-color: var(--fill-color);\n",
              "    }\n",
              "    20% {\n",
              "      border-color: transparent;\n",
              "      border-left-color: var(--fill-color);\n",
              "      border-top-color: var(--fill-color);\n",
              "    }\n",
              "    30% {\n",
              "      border-color: transparent;\n",
              "      border-left-color: var(--fill-color);\n",
              "      border-top-color: var(--fill-color);\n",
              "      border-right-color: var(--fill-color);\n",
              "    }\n",
              "    40% {\n",
              "      border-color: transparent;\n",
              "      border-right-color: var(--fill-color);\n",
              "      border-top-color: var(--fill-color);\n",
              "    }\n",
              "    60% {\n",
              "      border-color: transparent;\n",
              "      border-right-color: var(--fill-color);\n",
              "    }\n",
              "    80% {\n",
              "      border-color: transparent;\n",
              "      border-right-color: var(--fill-color);\n",
              "      border-bottom-color: var(--fill-color);\n",
              "    }\n",
              "    90% {\n",
              "      border-color: transparent;\n",
              "      border-bottom-color: var(--fill-color);\n",
              "    }\n",
              "  }\n",
              "</style>\n",
              "\n",
              "  <script>\n",
              "    async function quickchart(key) {\n",
              "      const quickchartButtonEl =\n",
              "        document.querySelector('#' + key + ' button');\n",
              "      quickchartButtonEl.disabled = true;  // To prevent multiple clicks.\n",
              "      quickchartButtonEl.classList.add('colab-df-spinner');\n",
              "      try {\n",
              "        const charts = await google.colab.kernel.invokeFunction(\n",
              "            'suggestCharts', [key], {});\n",
              "      } catch (error) {\n",
              "        console.error('Error during call to suggestCharts:', error);\n",
              "      }\n",
              "      quickchartButtonEl.classList.remove('colab-df-spinner');\n",
              "      quickchartButtonEl.classList.add('colab-df-quickchart-complete');\n",
              "    }\n",
              "    (() => {\n",
              "      let quickchartButtonEl =\n",
              "        document.querySelector('#df-3ccf51e7-3f5c-42cd-8c1c-94ade073e720 button');\n",
              "      quickchartButtonEl.style.display =\n",
              "        google.colab.kernel.accessAllowed ? 'block' : 'none';\n",
              "    })();\n",
              "  </script>\n",
              "</div>\n",
              "    </div>\n",
              "  </div>\n"
            ]
          },
          "metadata": {},
          "execution_count": 46
        }
      ]
    },
    {
      "cell_type": "markdown",
      "source": [
        "Compute the means of the natural log of race time (outcome variable) for runners who ran in the Vaporfly sneakers and for those that did not. Compute the difference in means."
      ],
      "metadata": {
        "id": "XqgxkVYPs3M0"
      }
    },
    {
      "cell_type": "code",
      "source": [
        "w_vf = marathon_df[marathon_df['vaporfly']==1].race_time_nl.mean()\n",
        "wo_vf = marathon_df[marathon_df['vaporfly']==0].race_time_nl.mean()\n",
        "diff_in_means = w_vf - wo_vf"
      ],
      "metadata": {
        "id": "-C3ehkjMshrM"
      },
      "execution_count": 43,
      "outputs": []
    },
    {
      "cell_type": "code",
      "source": [
        "diff_in_means"
      ],
      "metadata": {
        "colab": {
          "base_uri": "https://localhost:8080/"
        },
        "id": "oIwCcfAJvAWL",
        "outputId": "1c2ed63b-8674-435c-e0b3-9e9defae7779"
      },
      "execution_count": 44,
      "outputs": [
        {
          "output_type": "execute_result",
          "data": {
            "text/plain": [
              "-0.06401793390485189"
            ]
          },
          "metadata": {},
          "execution_count": 44
        }
      ]
    },
    {
      "cell_type": "markdown",
      "source": [
        "<b> ATE_1 - controlling for age </b>\n",
        "<br>\n",
        "Controlling for runner age, estimate ATE for wearing Nike Vaporfly shoes, using nearest neighbor matching (Euclidean distance) on the variable age using the causalinference library.\n"
      ],
      "metadata": {
        "id": "ND_JkvaDnElX"
      }
    },
    {
      "cell_type": "code",
      "source": [
        "# create a Causal Model object with outcome variable natural log of race times (Y), treatment variable of Vaporfly (D) and control variable Age (X)\n",
        "model = CausalModel(Y=marathon_df['race_time_nl'].values, D=marathon_df['vaporfly'].values, X=marathon_df['age'].values)\n",
        "\n",
        "# estimate causal model using methods to match treated units (e.g., vaporfly wearers) with similar untreated runners based on age (X covariate)\n",
        "# to make the comparison between the treatment (D) and control groups more apples-to-apples.\n",
        "model.est_via_matching()\n",
        "\n",
        "# assign results to ate_1 and print them\n",
        "ate_1 = dict(model.estimates)['matching']['ate'].round(3)\n",
        "ate_1"
      ],
      "metadata": {
        "colab": {
          "base_uri": "https://localhost:8080/"
        },
        "id": "YMkQLWHplYQ0",
        "outputId": "808ff185-f19b-4a58-8bf1-086e0a2a6e84"
      },
      "execution_count": 54,
      "outputs": [
        {
          "output_type": "execute_result",
          "data": {
            "text/plain": [
              "-0.041"
            ]
          },
          "metadata": {},
          "execution_count": 54
        }
      ]
    },
    {
      "cell_type": "markdown",
      "source": [
        "<b> ATE_2 with Propensity for treatment </b>\n",
        "<br>\n",
        "Estimate the probability of a runner to wear the Vaporfly (i.e. treatment) given their characteristics (age, gender, seasoned, and enthusiastic) using a logistic regression model. Use these propensity scores to match up runners to determine the ATE of the treated."
      ],
      "metadata": {
        "id": "ch0OmlXP4Nbl"
      }
    },
    {
      "cell_type": "code",
      "source": [
        "# create a binary encoding for seasoned and enthusiastic runners\n",
        "marathon_df['seasoned_runner'] = np.where(marathon_df['marathoner_type']=='seasoned',1,0)\n",
        "marathon_df['enthusiastic_runner'] = np.where(marathon_df['marathoner_type']=='enthusiastic',1,0)\n",
        "\n",
        "# establish covariates for the propensity matching and control\n",
        "X_vars = marathon_df[['age','male','seasoned_runner','enthusiastic_runner']].values\n",
        "\n",
        "# create model\n",
        "model_2 = CausalModel(Y=marathon_df['race_time_nl'].values, D=marathon_df['vaporfly'].values, X = X_vars)\n",
        "\n",
        "# estimate propensity and matching\n",
        "model_2.est_propensity()\n",
        "model_2.est_via_matching()\n",
        "\n",
        "# assign results to ate_2 and print them\n",
        "ate_2 = dict(model_2.estimates)['matching']['ate'].round(3)\n",
        "ate_2"
      ],
      "metadata": {
        "colab": {
          "base_uri": "https://localhost:8080/"
        },
        "id": "SXplhevs3B74",
        "outputId": "022a20b6-04e7-4f3c-a99f-7eacec4f9bf1"
      },
      "execution_count": 53,
      "outputs": [
        {
          "output_type": "execute_result",
          "data": {
            "text/plain": [
              "-0.043"
            ]
          },
          "metadata": {},
          "execution_count": 53
        }
      ]
    },
    {
      "cell_type": "markdown",
      "source": [
        "<b> Controlled regression using robust standard errors </b>\n",
        "<br>\n",
        "Conduct regression analysis to measure the benefits of Vaporfly shoes on marathon race times, controlling for confounders such as age, gender, and runner experience (seasoned, enthusiastic)."
      ],
      "metadata": {
        "id": "QyPbggsK-NC2"
      }
    },
    {
      "cell_type": "code",
      "source": [
        "reg_model = smf.ols(formula = 'race_time_nl ~ vaporfly + age + seasoned_runner + enthusiastic_runner',\n",
        "                    data = marathon_df[['race_time_nl','vaporfly','age','seasoned_runner','enthusiastic_runner']]).fit()\n",
        "reg_model.get_robustcov_results().summary()"
      ],
      "metadata": {
        "colab": {
          "base_uri": "https://localhost:8080/",
          "height": 516
        },
        "id": "Vnrvhlbt5aMV",
        "outputId": "db46c995-7752-43f6-cf09-dcc63f96ed70"
      },
      "execution_count": 62,
      "outputs": [
        {
          "output_type": "execute_result",
          "data": {
            "text/plain": [
              "<class 'statsmodels.iolib.summary.Summary'>\n",
              "\"\"\"\n",
              "                            OLS Regression Results                            \n",
              "==============================================================================\n",
              "Dep. Variable:           race_time_nl   R-squared:                       0.261\n",
              "Model:                            OLS   Adj. R-squared:                  0.261\n",
              "Method:                 Least Squares   F-statistic:                     2013.\n",
              "Date:                Thu, 19 Oct 2023   Prob (F-statistic):               0.00\n",
              "Time:                        18:08:59   Log-Likelihood:                 17111.\n",
              "No. Observations:               24699   AIC:                        -3.421e+04\n",
              "Df Residuals:                   24694   BIC:                        -3.417e+04\n",
              "Df Model:                           4                                         \n",
              "Covariance Type:                  HC1                                         \n",
              "=======================================================================================\n",
              "                          coef    std err          t      P>|t|      [0.025      0.975]\n",
              "---------------------------------------------------------------------------------------\n",
              "Intercept               9.8786      0.004   2461.195      0.000       9.871       9.886\n",
              "vaporfly               -0.0404      0.002    -25.868      0.000      -0.044      -0.037\n",
              "age                    -0.0085      0.000    -71.073      0.000      -0.009      -0.008\n",
              "seasoned_runner        -0.0874      0.002    -38.236      0.000      -0.092      -0.083\n",
              "enthusiastic_runner    -0.0567      0.004    -15.485      0.000      -0.064      -0.050\n",
              "==============================================================================\n",
              "Omnibus:                      748.302   Durbin-Watson:                   2.004\n",
              "Prob(Omnibus):                  0.000   Jarque-Bera (JB):              822.610\n",
              "Skew:                          -0.428   Prob(JB):                    2.36e-179\n",
              "Kurtosis:                       3.261   Cond. No.                         183.\n",
              "==============================================================================\n",
              "\n",
              "Notes:\n",
              "[1] Standard Errors are heteroscedasticity robust (HC1)\n",
              "\"\"\""
            ],
            "text/html": [
              "<table class=\"simpletable\">\n",
              "<caption>OLS Regression Results</caption>\n",
              "<tr>\n",
              "  <th>Dep. Variable:</th>      <td>race_time_nl</td>   <th>  R-squared:         </th>  <td>   0.261</td> \n",
              "</tr>\n",
              "<tr>\n",
              "  <th>Model:</th>                   <td>OLS</td>       <th>  Adj. R-squared:    </th>  <td>   0.261</td> \n",
              "</tr>\n",
              "<tr>\n",
              "  <th>Method:</th>             <td>Least Squares</td>  <th>  F-statistic:       </th>  <td>   2013.</td> \n",
              "</tr>\n",
              "<tr>\n",
              "  <th>Date:</th>             <td>Thu, 19 Oct 2023</td> <th>  Prob (F-statistic):</th>   <td>  0.00</td>  \n",
              "</tr>\n",
              "<tr>\n",
              "  <th>Time:</th>                 <td>18:08:59</td>     <th>  Log-Likelihood:    </th>  <td>  17111.</td> \n",
              "</tr>\n",
              "<tr>\n",
              "  <th>No. Observations:</th>      <td> 24699</td>      <th>  AIC:               </th> <td>-3.421e+04</td>\n",
              "</tr>\n",
              "<tr>\n",
              "  <th>Df Residuals:</th>          <td> 24694</td>      <th>  BIC:               </th> <td>-3.417e+04</td>\n",
              "</tr>\n",
              "<tr>\n",
              "  <th>Df Model:</th>              <td>     4</td>      <th>                     </th>      <td> </td>    \n",
              "</tr>\n",
              "<tr>\n",
              "  <th>Covariance Type:</th>         <td>HC1</td>       <th>                     </th>      <td> </td>    \n",
              "</tr>\n",
              "</table>\n",
              "<table class=\"simpletable\">\n",
              "<tr>\n",
              "           <td></td>              <th>coef</th>     <th>std err</th>      <th>t</th>      <th>P>|t|</th>  <th>[0.025</th>    <th>0.975]</th>  \n",
              "</tr>\n",
              "<tr>\n",
              "  <th>Intercept</th>           <td>    9.8786</td> <td>    0.004</td> <td> 2461.195</td> <td> 0.000</td> <td>    9.871</td> <td>    9.886</td>\n",
              "</tr>\n",
              "<tr>\n",
              "  <th>vaporfly</th>            <td>   -0.0404</td> <td>    0.002</td> <td>  -25.868</td> <td> 0.000</td> <td>   -0.044</td> <td>   -0.037</td>\n",
              "</tr>\n",
              "<tr>\n",
              "  <th>age</th>                 <td>   -0.0085</td> <td>    0.000</td> <td>  -71.073</td> <td> 0.000</td> <td>   -0.009</td> <td>   -0.008</td>\n",
              "</tr>\n",
              "<tr>\n",
              "  <th>seasoned_runner</th>     <td>   -0.0874</td> <td>    0.002</td> <td>  -38.236</td> <td> 0.000</td> <td>   -0.092</td> <td>   -0.083</td>\n",
              "</tr>\n",
              "<tr>\n",
              "  <th>enthusiastic_runner</th> <td>   -0.0567</td> <td>    0.004</td> <td>  -15.485</td> <td> 0.000</td> <td>   -0.064</td> <td>   -0.050</td>\n",
              "</tr>\n",
              "</table>\n",
              "<table class=\"simpletable\">\n",
              "<tr>\n",
              "  <th>Omnibus:</th>       <td>748.302</td> <th>  Durbin-Watson:     </th> <td>   2.004</td> \n",
              "</tr>\n",
              "<tr>\n",
              "  <th>Prob(Omnibus):</th> <td> 0.000</td>  <th>  Jarque-Bera (JB):  </th> <td> 822.610</td> \n",
              "</tr>\n",
              "<tr>\n",
              "  <th>Skew:</th>          <td>-0.428</td>  <th>  Prob(JB):          </th> <td>2.36e-179</td>\n",
              "</tr>\n",
              "<tr>\n",
              "  <th>Kurtosis:</th>      <td> 3.261</td>  <th>  Cond. No.          </th> <td>    183.</td> \n",
              "</tr>\n",
              "</table><br/><br/>Notes:<br/>[1] Standard Errors are heteroscedasticity robust (HC1)"
            ],
            "text/latex": "\\begin{center}\n\\begin{tabular}{lclc}\n\\toprule\n\\textbf{Dep. Variable:}       &  race\\_time\\_nl  & \\textbf{  R-squared:         } &     0.261   \\\\\n\\textbf{Model:}               &       OLS        & \\textbf{  Adj. R-squared:    } &     0.261   \\\\\n\\textbf{Method:}              &  Least Squares   & \\textbf{  F-statistic:       } &     2013.   \\\\\n\\textbf{Date:}                & Thu, 19 Oct 2023 & \\textbf{  Prob (F-statistic):} &     0.00    \\\\\n\\textbf{Time:}                &     18:08:59     & \\textbf{  Log-Likelihood:    } &    17111.   \\\\\n\\textbf{No. Observations:}    &       24699      & \\textbf{  AIC:               } & -3.421e+04  \\\\\n\\textbf{Df Residuals:}        &       24694      & \\textbf{  BIC:               } & -3.417e+04  \\\\\n\\textbf{Df Model:}            &           4      & \\textbf{                     } &             \\\\\n\\textbf{Covariance Type:}     &       HC1        & \\textbf{                     } &             \\\\\n\\bottomrule\n\\end{tabular}\n\\begin{tabular}{lcccccc}\n                              & \\textbf{coef} & \\textbf{std err} & \\textbf{t} & \\textbf{P$> |$t$|$} & \\textbf{[0.025} & \\textbf{0.975]}  \\\\\n\\midrule\n\\textbf{Intercept}            &       9.8786  &        0.004     &  2461.195  &         0.000        &        9.871    &        9.886     \\\\\n\\textbf{vaporfly}             &      -0.0404  &        0.002     &   -25.868  &         0.000        &       -0.044    &       -0.037     \\\\\n\\textbf{age}                  &      -0.0085  &        0.000     &   -71.073  &         0.000        &       -0.009    &       -0.008     \\\\\n\\textbf{seasoned\\_runner}     &      -0.0874  &        0.002     &   -38.236  &         0.000        &       -0.092    &       -0.083     \\\\\n\\textbf{enthusiastic\\_runner} &      -0.0567  &        0.004     &   -15.485  &         0.000        &       -0.064    &       -0.050     \\\\\n\\bottomrule\n\\end{tabular}\n\\begin{tabular}{lclc}\n\\textbf{Omnibus:}       & 748.302 & \\textbf{  Durbin-Watson:     } &     2.004  \\\\\n\\textbf{Prob(Omnibus):} &   0.000 & \\textbf{  Jarque-Bera (JB):  } &   822.610  \\\\\n\\textbf{Skew:}          &  -0.428 & \\textbf{  Prob(JB):          } & 2.36e-179  \\\\\n\\textbf{Kurtosis:}      &   3.261 & \\textbf{  Cond. No.          } &      183.  \\\\\n\\bottomrule\n\\end{tabular}\n%\\caption{OLS Regression Results}\n\\end{center}\n\nNotes: \\newline\n [1] Standard Errors are heteroscedasticity robust (HC1)"
          },
          "metadata": {},
          "execution_count": 62
        }
      ]
    },
    {
      "cell_type": "code",
      "source": [],
      "metadata": {
        "id": "4qQXW6wJKBL1"
      },
      "execution_count": null,
      "outputs": []
    }
  ]
}